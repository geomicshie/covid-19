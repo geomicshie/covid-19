{
 "cells": [
  {
   "cell_type": "code",
   "execution_count": null,
   "metadata": {},
   "outputs": [],
   "source": [
    "# FYI -- in order to dive deeper into models used for computer vision, particular neural networks\n",
    "# I sought out supplemental material from the Udacity course on Computer Vision from the Georgia Tech\n",
    "# University (https://classroom.udacity.com/courses/ud810) and the O'Reilly book ... \n",
    "# \"Hands-on Machine Learning with Scikit-Learn, Keras & TensorFlow\". As a result, models and code have\n",
    "# been borrowed here"
   ]
  },
  {
   "cell_type": "code",
   "execution_count": 91,
   "metadata": {},
   "outputs": [],
   "source": [
    "import numpy as np\n",
    "import pandas as pd\n",
    "import matplotlib.pyplot as plt\n",
    "import seaborn as sns\n",
    "\n",
    "# pickle for pulling prepared arrays\n",
    "import pickle\n",
    "# cv2 computer vision library for loading images\n",
    "import cv2\n",
    "# tensorflow for Convolutional Neural Network (CNN)\n",
    "import tensorflow as tf\n",
    "from tensorflow import keras\n",
    "from tensorflow.keras.models import Sequential\n",
    "from tensorflow.keras.layers import Dense, Flatten, Dropout, Activation, Conv2D, MaxPooling2D"
   ]
  },
  {
   "cell_type": "code",
   "execution_count": 14,
   "metadata": {},
   "outputs": [],
   "source": [
    "# import the arrays we prepared in the 'Numpy Array' workbook\n",
    "image_array = pickle.load(open('images.array', 'rb')) # no. images X 100 pixels X 100 pixels\n",
    "sgd_array = pickle.load(open('sdg.array', 'rb')) # no. images X 10000 pixels (reshaped)\n",
    "y = pickle.load(open('y.array', 'rb'))"
   ]
  },
  {
   "cell_type": "code",
   "execution_count": 92,
   "metadata": {},
   "outputs": [],
   "source": [
    "import sklearn.model_selection\n",
    "from sklearn.model_selection import train_test_split\n",
    "from sklearn.linear_model import LogisticRegression\n",
    "from sklearn import metrics"
   ]
  },
  {
   "cell_type": "code",
   "execution_count": 93,
   "metadata": {},
   "outputs": [],
   "source": [
    "#------------------SGD (Stochastic-Gradient-Descent) Classifier-------------------\n",
    "X = sgd_array"
   ]
  },
  {
   "cell_type": "code",
   "execution_count": 94,
   "metadata": {},
   "outputs": [],
   "source": [
    "X_train, X_test, y_train, y_test = train_test_split(X, y, random_state=42)"
   ]
  },
  {
   "cell_type": "code",
   "execution_count": 95,
   "metadata": {},
   "outputs": [],
   "source": [
    "from sklearn.linear_model import SGDClassifier\n",
    "sgd_clf = SGDClassifier(random_state=42)\n",
    "sgd_clf.fit(X_train, y_train)\n",
    "y_pred = sgd_clf.predict(X_test)"
   ]
  },
  {
   "cell_type": "code",
   "execution_count": 96,
   "metadata": {},
   "outputs": [
    {
     "data": {
      "text/plain": [
       "0.7038391224862889"
      ]
     },
     "execution_count": 96,
     "metadata": {},
     "output_type": "execute_result"
    }
   ],
   "source": [
    "metrics.accuracy_score(y_test, y_pred)"
   ]
  },
  {
   "cell_type": "code",
   "execution_count": 98,
   "metadata": {},
   "outputs": [
    {
     "data": {
      "text/plain": [
       "array([[127,  29,  35],\n",
       "       [ 12, 113,  31],\n",
       "       [ 21,  34, 145]])"
      ]
     },
     "execution_count": 98,
     "metadata": {},
     "output_type": "execute_result"
    }
   ],
   "source": [
    "from sklearn.metrics import confusion_matrix\n",
    "confusion_matrix(y_test, y_pred)"
   ]
  },
  {
   "cell_type": "code",
   "execution_count": 37,
   "metadata": {
    "scrolled": false
   },
   "outputs": [
    {
     "name": "stderr",
     "output_type": "stream",
     "text": [
      "/home/openoeuvre/anaconda3/lib/python3.7/site-packages/sklearn/linear_model/_logistic.py:940: ConvergenceWarning: lbfgs failed to converge (status=1):\n",
      "STOP: TOTAL NO. of ITERATIONS REACHED LIMIT.\n",
      "\n",
      "Increase the number of iterations (max_iter) or scale the data as shown in:\n",
      "    https://scikit-learn.org/stable/modules/preprocessing.html\n",
      "Please also refer to the documentation for alternative solver options:\n",
      "    https://scikit-learn.org/stable/modules/linear_model.html#logistic-regression\n",
      "  extra_warning_msg=_LOGISTIC_SOLVER_CONVERGENCE_MSG)\n"
     ]
    },
    {
     "data": {
      "text/plain": [
       "0.7714808043875686"
      ]
     },
     "execution_count": 37,
     "metadata": {},
     "output_type": "execute_result"
    }
   ],
   "source": [
    "#------------------ Pipeline (Method suggested for MNIST data) ------------\n",
    "\n",
    "# reset data\n",
    "X = sgd_array \n",
    "X_train, X_test, y_train, y_test = train_test_split(X, y, random_state=42)\n",
    "\n",
    "# Pipeline model\n",
    "from sklearn.pipeline import Pipeline\n",
    "from sklearn.cluster import KMeans\n",
    "\n",
    "pipeline = Pipeline([\n",
    "    (\"kmeans\", KMeans(n_clusters=99)),\n",
    "    (\"log_reg\", LogisticRegression()),\n",
    "])\n",
    "pipeline.fit(X_train, y_train)\n",
    "pipeline.score(X_test, y_test)"
   ]
  },
  {
   "cell_type": "code",
   "execution_count": 61,
   "metadata": {},
   "outputs": [],
   "source": [
    "#---------------------Artificial Neural Network--------------------------------\n",
    "\n",
    "#reset data\n",
    "X = image_array\n",
    "# set up a segment for validation\n",
    "X_train_full, X_test, y_train_full, y_test = train_test_split(X, y, random_state=323)\n",
    "X_valid, X_train = X_train_full[:50] / 255.0, X_train_full[50:] / 255.0 # normalize the data\n",
    "y_valid, y_train = y_train_full[:50], y_train_full[50:]"
   ]
  },
  {
   "cell_type": "code",
   "execution_count": 62,
   "metadata": {},
   "outputs": [],
   "source": [
    "ann = keras.models.Sequential()\n",
    "ann.add(keras.layers.Flatten(input_shape=[100, 100])) # pixel array dimensions\n",
    "ann.add(keras.layers.Dense(300, activation=\"relu\"))\n",
    "ann.add(keras.layers.Dense(100, activation=\"relu\"))\n",
    "ann.add(keras.layers.Dense(10, activation=\"softmax\"))"
   ]
  },
  {
   "cell_type": "code",
   "execution_count": 63,
   "metadata": {},
   "outputs": [
    {
     "name": "stdout",
     "output_type": "stream",
     "text": [
      "Model: \"sequential_4\"\n",
      "_________________________________________________________________\n",
      "Layer (type)                 Output Shape              Param #   \n",
      "=================================================================\n",
      "flatten_4 (Flatten)          (None, 10000)             0         \n",
      "_________________________________________________________________\n",
      "dense_12 (Dense)             (None, 300)               3000300   \n",
      "_________________________________________________________________\n",
      "dense_13 (Dense)             (None, 100)               30100     \n",
      "_________________________________________________________________\n",
      "dense_14 (Dense)             (None, 10)                1010      \n",
      "=================================================================\n",
      "Total params: 3,031,410\n",
      "Trainable params: 3,031,410\n",
      "Non-trainable params: 0\n",
      "_________________________________________________________________\n"
     ]
    }
   ],
   "source": [
    "ann.summary()"
   ]
  },
  {
   "cell_type": "code",
   "execution_count": 64,
   "metadata": {},
   "outputs": [],
   "source": [
    "# Have to compile the model else erros\n",
    "ann.compile(loss=\"sparse_categorical_crossentropy\", optimizer=\"sgd\", metrics=[\"accuracy\"])"
   ]
  },
  {
   "cell_type": "code",
   "execution_count": 65,
   "metadata": {},
   "outputs": [
    {
     "name": "stdout",
     "output_type": "stream",
     "text": [
      "Epoch 1/100\n",
      "50/50 [==============================] - 0s 6ms/step - loss: 1.2392 - accuracy: 0.3350 - val_loss: 1.0827 - val_accuracy: 0.3400\n",
      "Epoch 2/100\n",
      "50/50 [==============================] - 0s 5ms/step - loss: 1.1135 - accuracy: 0.3941 - val_loss: 1.1848 - val_accuracy: 0.3800\n",
      "Epoch 3/100\n",
      "50/50 [==============================] - 0s 5ms/step - loss: 1.0829 - accuracy: 0.4419 - val_loss: 0.9585 - val_accuracy: 0.7800\n",
      "Epoch 4/100\n",
      "50/50 [==============================] - 0s 5ms/step - loss: 1.0627 - accuracy: 0.4657 - val_loss: 0.9878 - val_accuracy: 0.4600\n",
      "Epoch 5/100\n",
      "50/50 [==============================] - 0s 5ms/step - loss: 1.0383 - accuracy: 0.4815 - val_loss: 1.3358 - val_accuracy: 0.4200\n",
      "Epoch 6/100\n",
      "50/50 [==============================] - 0s 5ms/step - loss: 1.0059 - accuracy: 0.5079 - val_loss: 0.8605 - val_accuracy: 0.6600\n",
      "Epoch 7/100\n",
      "50/50 [==============================] - 0s 5ms/step - loss: 0.9838 - accuracy: 0.5368 - val_loss: 0.8165 - val_accuracy: 0.8200\n",
      "Epoch 8/100\n",
      "50/50 [==============================] - 0s 5ms/step - loss: 0.9757 - accuracy: 0.5418 - val_loss: 0.7736 - val_accuracy: 0.6200\n",
      "Epoch 9/100\n",
      "50/50 [==============================] - 0s 5ms/step - loss: 0.9553 - accuracy: 0.5531 - val_loss: 0.8508 - val_accuracy: 0.6200\n",
      "Epoch 10/100\n",
      "50/50 [==============================] - 0s 5ms/step - loss: 0.9543 - accuracy: 0.5707 - val_loss: 0.7448 - val_accuracy: 0.8200\n",
      "Epoch 11/100\n",
      "50/50 [==============================] - 0s 5ms/step - loss: 0.9150 - accuracy: 0.5839 - val_loss: 0.6973 - val_accuracy: 0.7800\n",
      "Epoch 12/100\n",
      "50/50 [==============================] - 0s 5ms/step - loss: 0.9223 - accuracy: 0.5845 - val_loss: 1.2396 - val_accuracy: 0.4000\n",
      "Epoch 13/100\n",
      "50/50 [==============================] - 0s 5ms/step - loss: 0.9021 - accuracy: 0.5959 - val_loss: 0.7419 - val_accuracy: 0.7200\n",
      "Epoch 14/100\n",
      "50/50 [==============================] - 0s 5ms/step - loss: 0.8505 - accuracy: 0.6273 - val_loss: 0.7959 - val_accuracy: 0.6000\n",
      "Epoch 15/100\n",
      "50/50 [==============================] - 0s 6ms/step - loss: 0.8774 - accuracy: 0.6172 - val_loss: 1.0367 - val_accuracy: 0.4800\n",
      "Epoch 16/100\n",
      "50/50 [==============================] - 0s 5ms/step - loss: 0.8742 - accuracy: 0.6185 - val_loss: 1.0032 - val_accuracy: 0.5600\n",
      "Epoch 17/100\n",
      "50/50 [==============================] - 0s 5ms/step - loss: 0.8321 - accuracy: 0.6210 - val_loss: 0.6979 - val_accuracy: 0.7200\n",
      "Epoch 18/100\n",
      "50/50 [==============================] - 0s 5ms/step - loss: 0.8292 - accuracy: 0.6285 - val_loss: 0.6736 - val_accuracy: 0.6800\n",
      "Epoch 19/100\n",
      "50/50 [==============================] - 0s 5ms/step - loss: 0.7790 - accuracy: 0.6631 - val_loss: 0.5805 - val_accuracy: 0.8000\n",
      "Epoch 20/100\n",
      "50/50 [==============================] - 0s 5ms/step - loss: 0.7929 - accuracy: 0.6512 - val_loss: 0.6907 - val_accuracy: 0.7200\n",
      "Epoch 21/100\n",
      "50/50 [==============================] - 0s 5ms/step - loss: 0.7691 - accuracy: 0.6694 - val_loss: 0.5751 - val_accuracy: 0.8200\n",
      "Epoch 22/100\n",
      "50/50 [==============================] - 0s 5ms/step - loss: 0.7565 - accuracy: 0.6732 - val_loss: 0.7345 - val_accuracy: 0.7200\n",
      "Epoch 23/100\n",
      "50/50 [==============================] - 0s 5ms/step - loss: 0.7169 - accuracy: 0.6945 - val_loss: 0.7271 - val_accuracy: 0.7600\n",
      "Epoch 24/100\n",
      "50/50 [==============================] - 0s 5ms/step - loss: 0.7117 - accuracy: 0.6933 - val_loss: 0.5748 - val_accuracy: 0.7600\n",
      "Epoch 25/100\n",
      "50/50 [==============================] - 0s 5ms/step - loss: 0.7200 - accuracy: 0.7008 - val_loss: 0.5922 - val_accuracy: 0.8000\n",
      "Epoch 26/100\n",
      "50/50 [==============================] - 0s 5ms/step - loss: 0.6798 - accuracy: 0.7071 - val_loss: 0.5350 - val_accuracy: 0.8200\n",
      "Epoch 27/100\n",
      "50/50 [==============================] - 0s 5ms/step - loss: 0.6530 - accuracy: 0.7222 - val_loss: 0.4417 - val_accuracy: 0.9000\n",
      "Epoch 28/100\n",
      "50/50 [==============================] - 0s 5ms/step - loss: 0.6567 - accuracy: 0.7172 - val_loss: 0.6140 - val_accuracy: 0.6400\n",
      "Epoch 29/100\n",
      "50/50 [==============================] - 0s 5ms/step - loss: 0.6112 - accuracy: 0.7524 - val_loss: 0.4393 - val_accuracy: 0.8200\n",
      "Epoch 30/100\n",
      "50/50 [==============================] - 0s 5ms/step - loss: 0.6195 - accuracy: 0.7385 - val_loss: 0.5493 - val_accuracy: 0.7600\n",
      "Epoch 31/100\n",
      "50/50 [==============================] - 0s 5ms/step - loss: 0.5213 - accuracy: 0.7844 - val_loss: 0.4943 - val_accuracy: 0.8400\n",
      "Epoch 32/100\n",
      "50/50 [==============================] - 0s 5ms/step - loss: 0.5897 - accuracy: 0.7530 - val_loss: 0.4241 - val_accuracy: 0.8000\n",
      "Epoch 33/100\n",
      "50/50 [==============================] - 0s 5ms/step - loss: 0.5248 - accuracy: 0.7869 - val_loss: 0.5036 - val_accuracy: 0.7800\n",
      "Epoch 34/100\n",
      "50/50 [==============================] - 0s 5ms/step - loss: 0.5108 - accuracy: 0.7995 - val_loss: 0.4835 - val_accuracy: 0.8000\n",
      "Epoch 35/100\n",
      "50/50 [==============================] - 0s 5ms/step - loss: 0.5106 - accuracy: 0.7894 - val_loss: 0.3548 - val_accuracy: 0.9200\n",
      "Epoch 36/100\n",
      "50/50 [==============================] - 0s 5ms/step - loss: 0.4827 - accuracy: 0.8020 - val_loss: 0.3662 - val_accuracy: 0.8800\n",
      "Epoch 37/100\n",
      "50/50 [==============================] - 0s 5ms/step - loss: 0.4648 - accuracy: 0.8265 - val_loss: 0.3555 - val_accuracy: 0.8600\n",
      "Epoch 38/100\n",
      "50/50 [==============================] - 0s 5ms/step - loss: 0.4771 - accuracy: 0.8127 - val_loss: 0.3423 - val_accuracy: 0.9400\n",
      "Epoch 39/100\n",
      "50/50 [==============================] - 0s 5ms/step - loss: 0.4087 - accuracy: 0.8460 - val_loss: 0.4307 - val_accuracy: 0.8000\n",
      "Epoch 40/100\n",
      "50/50 [==============================] - 0s 5ms/step - loss: 0.4457 - accuracy: 0.8347 - val_loss: 0.7287 - val_accuracy: 0.6000\n",
      "Epoch 41/100\n",
      "50/50 [==============================] - 0s 5ms/step - loss: 0.4072 - accuracy: 0.8416 - val_loss: 0.4769 - val_accuracy: 0.9000\n",
      "Epoch 42/100\n",
      "50/50 [==============================] - 0s 5ms/step - loss: 0.3963 - accuracy: 0.8466 - val_loss: 0.3026 - val_accuracy: 0.9200\n",
      "Epoch 43/100\n",
      "50/50 [==============================] - 0s 5ms/step - loss: 0.3982 - accuracy: 0.8529 - val_loss: 0.4416 - val_accuracy: 0.7400\n",
      "Epoch 44/100\n",
      "50/50 [==============================] - 0s 5ms/step - loss: 0.4103 - accuracy: 0.8397 - val_loss: 0.3670 - val_accuracy: 0.9000\n",
      "Epoch 45/100\n",
      "50/50 [==============================] - 0s 5ms/step - loss: 0.4022 - accuracy: 0.8523 - val_loss: 0.3039 - val_accuracy: 0.9400\n",
      "Epoch 46/100\n",
      "50/50 [==============================] - 0s 5ms/step - loss: 0.3505 - accuracy: 0.8668 - val_loss: 0.4249 - val_accuracy: 0.8200\n",
      "Epoch 47/100\n",
      "50/50 [==============================] - 0s 5ms/step - loss: 0.3674 - accuracy: 0.8718 - val_loss: 0.3153 - val_accuracy: 0.9200\n",
      "Epoch 48/100\n",
      "50/50 [==============================] - 0s 5ms/step - loss: 0.3551 - accuracy: 0.8686 - val_loss: 0.2346 - val_accuracy: 0.9400\n",
      "Epoch 49/100\n",
      "50/50 [==============================] - 0s 5ms/step - loss: 0.3179 - accuracy: 0.8793 - val_loss: 0.3509 - val_accuracy: 0.8200\n",
      "Epoch 50/100\n",
      "50/50 [==============================] - 0s 5ms/step - loss: 0.2999 - accuracy: 0.9001 - val_loss: 0.2699 - val_accuracy: 0.8400\n",
      "Epoch 51/100\n",
      "50/50 [==============================] - 0s 5ms/step - loss: 0.3035 - accuracy: 0.8875 - val_loss: 0.2914 - val_accuracy: 0.8200\n",
      "Epoch 52/100\n",
      "50/50 [==============================] - 0s 5ms/step - loss: 0.3008 - accuracy: 0.8938 - val_loss: 0.4508 - val_accuracy: 0.8200\n",
      "Epoch 53/100\n",
      "50/50 [==============================] - 0s 5ms/step - loss: 0.3216 - accuracy: 0.8825 - val_loss: 0.2589 - val_accuracy: 0.8400\n",
      "Epoch 54/100\n",
      "50/50 [==============================] - 0s 5ms/step - loss: 0.2683 - accuracy: 0.9076 - val_loss: 0.3371 - val_accuracy: 0.8200\n",
      "Epoch 55/100\n",
      "50/50 [==============================] - 0s 5ms/step - loss: 0.2739 - accuracy: 0.9063 - val_loss: 0.2200 - val_accuracy: 0.9200\n",
      "Epoch 56/100\n",
      "50/50 [==============================] - 0s 5ms/step - loss: 0.3175 - accuracy: 0.8900 - val_loss: 0.2241 - val_accuracy: 0.9200\n",
      "Epoch 57/100\n",
      "50/50 [==============================] - 0s 5ms/step - loss: 0.2841 - accuracy: 0.9013 - val_loss: 0.2581 - val_accuracy: 0.9200\n",
      "Epoch 58/100\n",
      "50/50 [==============================] - 0s 5ms/step - loss: 0.2541 - accuracy: 0.9089 - val_loss: 0.2658 - val_accuracy: 0.9000\n"
     ]
    },
    {
     "name": "stdout",
     "output_type": "stream",
     "text": [
      "Epoch 59/100\n",
      "50/50 [==============================] - 0s 5ms/step - loss: 0.2270 - accuracy: 0.9202 - val_loss: 0.5040 - val_accuracy: 0.7600\n",
      "Epoch 60/100\n",
      "50/50 [==============================] - 0s 5ms/step - loss: 0.2776 - accuracy: 0.8994 - val_loss: 0.2431 - val_accuracy: 0.9000\n",
      "Epoch 61/100\n",
      "50/50 [==============================] - 0s 5ms/step - loss: 0.2809 - accuracy: 0.8957 - val_loss: 0.2369 - val_accuracy: 0.9400\n",
      "Epoch 62/100\n",
      "50/50 [==============================] - 0s 5ms/step - loss: 0.2172 - accuracy: 0.9246 - val_loss: 0.2449 - val_accuracy: 0.8800\n",
      "Epoch 63/100\n",
      "50/50 [==============================] - 0s 5ms/step - loss: 0.2247 - accuracy: 0.9164 - val_loss: 0.6815 - val_accuracy: 0.7000\n",
      "Epoch 64/100\n",
      "50/50 [==============================] - 0s 5ms/step - loss: 0.2677 - accuracy: 0.9045 - val_loss: 0.1756 - val_accuracy: 0.9400\n",
      "Epoch 65/100\n",
      "50/50 [==============================] - 0s 5ms/step - loss: 0.2305 - accuracy: 0.9164 - val_loss: 0.1976 - val_accuracy: 0.9000\n",
      "Epoch 66/100\n",
      "50/50 [==============================] - 0s 5ms/step - loss: 0.2391 - accuracy: 0.9101 - val_loss: 0.2055 - val_accuracy: 0.9400\n",
      "Epoch 67/100\n",
      "50/50 [==============================] - 0s 5ms/step - loss: 0.2338 - accuracy: 0.9177 - val_loss: 0.2314 - val_accuracy: 0.9400\n",
      "Epoch 68/100\n",
      "50/50 [==============================] - 0s 5ms/step - loss: 0.1969 - accuracy: 0.9302 - val_loss: 0.2877 - val_accuracy: 0.8600\n",
      "Epoch 69/100\n",
      "50/50 [==============================] - 0s 5ms/step - loss: 0.2123 - accuracy: 0.9214 - val_loss: 0.2558 - val_accuracy: 0.8800\n",
      "Epoch 70/100\n",
      "50/50 [==============================] - 0s 5ms/step - loss: 0.1996 - accuracy: 0.9353 - val_loss: 0.1923 - val_accuracy: 0.9800\n",
      "Epoch 71/100\n",
      "50/50 [==============================] - 0s 5ms/step - loss: 0.1850 - accuracy: 0.9365 - val_loss: 0.1770 - val_accuracy: 0.9000\n",
      "Epoch 72/100\n",
      "50/50 [==============================] - 0s 5ms/step - loss: 0.1825 - accuracy: 0.9390 - val_loss: 0.1903 - val_accuracy: 0.9200\n",
      "Epoch 73/100\n",
      "50/50 [==============================] - 0s 5ms/step - loss: 0.1787 - accuracy: 0.9403 - val_loss: 0.1787 - val_accuracy: 0.9200\n",
      "Epoch 74/100\n",
      "50/50 [==============================] - 0s 5ms/step - loss: 0.1591 - accuracy: 0.9503 - val_loss: 0.2932 - val_accuracy: 0.8800\n",
      "Epoch 75/100\n",
      "50/50 [==============================] - 0s 5ms/step - loss: 0.1826 - accuracy: 0.9397 - val_loss: 0.1587 - val_accuracy: 0.9400\n",
      "Epoch 76/100\n",
      "50/50 [==============================] - 0s 5ms/step - loss: 0.1582 - accuracy: 0.9472 - val_loss: 0.7629 - val_accuracy: 0.7400\n",
      "Epoch 77/100\n",
      "50/50 [==============================] - 0s 5ms/step - loss: 0.1802 - accuracy: 0.9353 - val_loss: 0.2104 - val_accuracy: 0.9200\n",
      "Epoch 78/100\n",
      "50/50 [==============================] - 0s 5ms/step - loss: 0.3911 - accuracy: 0.8705 - val_loss: 0.2265 - val_accuracy: 0.8600\n",
      "Epoch 79/100\n",
      "50/50 [==============================] - 0s 5ms/step - loss: 0.2103 - accuracy: 0.9233 - val_loss: 0.1896 - val_accuracy: 0.9200\n",
      "Epoch 80/100\n",
      "50/50 [==============================] - 0s 5ms/step - loss: 0.1708 - accuracy: 0.9422 - val_loss: 0.1349 - val_accuracy: 0.9800\n",
      "Epoch 81/100\n",
      "50/50 [==============================] - 0s 5ms/step - loss: 0.1880 - accuracy: 0.9359 - val_loss: 0.1603 - val_accuracy: 0.9600\n",
      "Epoch 82/100\n",
      "50/50 [==============================] - 0s 5ms/step - loss: 0.1519 - accuracy: 0.9491 - val_loss: 0.1592 - val_accuracy: 0.9600\n",
      "Epoch 83/100\n",
      "50/50 [==============================] - 0s 5ms/step - loss: 0.1840 - accuracy: 0.9340 - val_loss: 0.1618 - val_accuracy: 0.9600\n",
      "Epoch 84/100\n",
      "50/50 [==============================] - 0s 5ms/step - loss: 0.1312 - accuracy: 0.9554 - val_loss: 0.7059 - val_accuracy: 0.7200\n",
      "Epoch 85/100\n",
      "50/50 [==============================] - 0s 5ms/step - loss: 0.4499 - accuracy: 0.8378 - val_loss: 0.2615 - val_accuracy: 0.9200\n",
      "Epoch 86/100\n",
      "50/50 [==============================] - 0s 5ms/step - loss: 0.1863 - accuracy: 0.9403 - val_loss: 0.1474 - val_accuracy: 0.9600\n",
      "Epoch 87/100\n",
      "50/50 [==============================] - 0s 5ms/step - loss: 0.1631 - accuracy: 0.9441 - val_loss: 0.1466 - val_accuracy: 0.9600\n",
      "Epoch 88/100\n",
      "50/50 [==============================] - 0s 5ms/step - loss: 0.1386 - accuracy: 0.9573 - val_loss: 0.1963 - val_accuracy: 0.9000\n",
      "Epoch 89/100\n",
      "50/50 [==============================] - 0s 5ms/step - loss: 0.1497 - accuracy: 0.9535 - val_loss: 0.1406 - val_accuracy: 0.9600\n",
      "Epoch 90/100\n",
      "50/50 [==============================] - 0s 5ms/step - loss: 0.1467 - accuracy: 0.9547 - val_loss: 0.1408 - val_accuracy: 0.9800\n",
      "Epoch 91/100\n",
      "50/50 [==============================] - 0s 5ms/step - loss: 0.1449 - accuracy: 0.9497 - val_loss: 0.1786 - val_accuracy: 0.9200\n",
      "Epoch 92/100\n",
      "50/50 [==============================] - 0s 5ms/step - loss: 0.1858 - accuracy: 0.9296 - val_loss: 0.1653 - val_accuracy: 0.9400\n",
      "Epoch 93/100\n",
      "50/50 [==============================] - 0s 5ms/step - loss: 0.1376 - accuracy: 0.9554 - val_loss: 0.2290 - val_accuracy: 0.9400\n",
      "Epoch 94/100\n",
      "50/50 [==============================] - 0s 5ms/step - loss: 0.1270 - accuracy: 0.9503 - val_loss: 0.2019 - val_accuracy: 0.9400\n",
      "Epoch 95/100\n",
      "50/50 [==============================] - 0s 5ms/step - loss: 0.1351 - accuracy: 0.9522 - val_loss: 0.2324 - val_accuracy: 0.9000\n",
      "Epoch 96/100\n",
      "50/50 [==============================] - 0s 5ms/step - loss: 0.1708 - accuracy: 0.9378 - val_loss: 0.1353 - val_accuracy: 0.9600\n",
      "Epoch 97/100\n",
      "50/50 [==============================] - 0s 5ms/step - loss: 0.2651 - accuracy: 0.9177 - val_loss: 0.1395 - val_accuracy: 0.9600\n",
      "Epoch 98/100\n",
      "50/50 [==============================] - 0s 5ms/step - loss: 0.1194 - accuracy: 0.9679 - val_loss: 0.1275 - val_accuracy: 0.9600\n",
      "Epoch 99/100\n",
      "50/50 [==============================] - 0s 5ms/step - loss: 0.1210 - accuracy: 0.9604 - val_loss: 0.2932 - val_accuracy: 0.8400\n",
      "Epoch 100/100\n",
      "50/50 [==============================] - 0s 5ms/step - loss: 0.1158 - accuracy: 0.9617 - val_loss: 0.1408 - val_accuracy: 0.9600\n"
     ]
    }
   ],
   "source": [
    "history = ann.fit(X_train, y_train, epochs=100, validation_data=(X_valid, y_valid))"
   ]
  },
  {
   "cell_type": "code",
   "execution_count": 66,
   "metadata": {
    "scrolled": false
   },
   "outputs": [
    {
     "data": {
      "image/png": "[encoded data removed]",
      "text/plain": [
       "<Figure size 576x360 with 1 Axes>"
      ]
     },
     "metadata": {
      "needs_background": "light"
     },
     "output_type": "display_data"
    }
   ],
   "source": [
    "# Given this plotting mechanism from O'Reilly \"Hands-on Machine Learning ... p. 305\"\n",
    "pd.DataFrame(history.history).plot(figsize=(8, 5))\n",
    "plt.grid(True)\n",
    "plt.gca().set_ylim(0, 1) # set the vertical range to 0-1\n",
    "plt.show()"
   ]
  },
  {
   "cell_type": "code",
   "execution_count": 193,
   "metadata": {},
   "outputs": [],
   "source": [
    "#---------------------Convolutional Neural Network--------------------------------\n",
    "\n",
    "#reset data, resize otherwise model doesn't except shape\n",
    "X = np.array(image_array).reshape(-1,100,100,1)\n",
    "#Normalize data\n",
    "X = X/255.0\n",
    "\n",
    "X_train, X_test, y_train, y_test = train_test_split(X, y, random_state=323)"
   ]
  },
  {
   "cell_type": "code",
   "execution_count": 194,
   "metadata": {},
   "outputs": [
    {
     "data": {
      "text/plain": [
       "(1641, 100, 100, 1)"
      ]
     },
     "execution_count": 194,
     "metadata": {},
     "output_type": "execute_result"
    }
   ],
   "source": [
    "X_train.shape"
   ]
  },
  {
   "cell_type": "code",
   "execution_count": 198,
   "metadata": {},
   "outputs": [],
   "source": [
    "cnn = Sequential()\n",
    "# Adds a densely-connected layer with 64 units to the model:\n",
    "cnn.add(Conv2D(64,(3,3), activation = 'relu', input_shape = X.shape[1:]))\n",
    "cnn.add(MaxPooling2D(pool_size = (2,2)))\n",
    "\n",
    "# Add another:\n",
    "cnn.add(Conv2D(64,(3,3), activation = 'relu'))\n",
    "cnn.add(MaxPooling2D(pool_size = (2,2)))\n",
    "\n",
    "cnn.add(Flatten())\n",
    "cnn.add(Dense(64, activation='relu'))\n",
    "\n",
    "# Add a softmax layer with output units:\n",
    "cnn.add(Dense(1, activation='sigmoid')) # changed\n",
    "\n",
    "cnn.compile(optimizer=\"adam\",\n",
    "              loss='binary_crossentropy',\n",
    "              metrics=['accuracy'])"
   ]
  },
  {
   "cell_type": "code",
   "execution_count": 199,
   "metadata": {},
   "outputs": [
    {
     "name": "stdout",
     "output_type": "stream",
     "text": [
      "Model: \"sequential_24\"\n",
      "_________________________________________________________________\n",
      "Layer (type)                 Output Shape              Param #   \n",
      "=================================================================\n",
      "conv2d_70 (Conv2D)           (None, 98, 98, 64)        640       \n",
      "_________________________________________________________________\n",
      "max_pooling2d_47 (MaxPooling (None, 49, 49, 64)        0         \n",
      "_________________________________________________________________\n",
      "conv2d_71 (Conv2D)           (None, 47, 47, 64)        36928     \n",
      "_________________________________________________________________\n",
      "max_pooling2d_48 (MaxPooling (None, 23, 23, 64)        0         \n",
      "_________________________________________________________________\n",
      "flatten_23 (Flatten)         (None, 33856)             0         \n",
      "_________________________________________________________________\n",
      "dense_61 (Dense)             (None, 64)                2166848   \n",
      "_________________________________________________________________\n",
      "dense_62 (Dense)             (None, 1)                 65        \n",
      "=================================================================\n",
      "Total params: 2,204,481\n",
      "Trainable params: 2,204,481\n",
      "Non-trainable params: 0\n",
      "_________________________________________________________________\n"
     ]
    }
   ],
   "source": [
    "cnn.summary()"
   ]
  },
  {
   "cell_type": "code",
   "execution_count": 200,
   "metadata": {},
   "outputs": [
    {
     "name": "stdout",
     "output_type": "stream",
     "text": [
      "Epoch 1/10\n",
      "41/41 [==============================] - 6s 148ms/step - loss: 0.2352 - accuracy: 0.3323 - val_loss: 2.5817 - val_accuracy: 0.3343\n",
      "Epoch 2/10\n",
      "41/41 [==============================] - 6s 152ms/step - loss: -3.2292 - accuracy: 0.3338 - val_loss: 5.8470 - val_accuracy: 0.3343\n",
      "Epoch 3/10\n",
      "41/41 [==============================] - 6s 151ms/step - loss: -21.8215 - accuracy: 0.3338 - val_loss: 29.2573 - val_accuracy: 0.3343\n",
      "Epoch 4/10\n",
      "41/41 [==============================] - 6s 151ms/step - loss: -156.1036 - accuracy: 0.3338 - val_loss: 189.6281 - val_accuracy: 0.3343\n",
      "Epoch 5/10\n",
      "41/41 [==============================] - 6s 150ms/step - loss: -870.2447 - accuracy: 0.3338 - val_loss: 838.5023 - val_accuracy: 0.3343\n",
      "Epoch 6/10\n",
      "41/41 [==============================] - 6s 153ms/step - loss: -3168.8398 - accuracy: 0.3338 - val_loss: 1488.7057 - val_accuracy: 0.3343\n",
      "Epoch 7/10\n",
      "41/41 [==============================] - 6s 158ms/step - loss: -6668.2822 - accuracy: 0.3338 - val_loss: 4705.6904 - val_accuracy: 0.3343\n",
      "Epoch 8/10\n",
      "41/41 [==============================] - 6s 154ms/step - loss: -15360.1572 - accuracy: 0.3338 - val_loss: 6829.6709 - val_accuracy: 0.3343\n",
      "Epoch 9/10\n",
      "41/41 [==============================] - 7s 159ms/step - loss: -26114.8105 - accuracy: 0.3338 - val_loss: 12614.3164 - val_accuracy: 0.3343\n",
      "Epoch 10/10\n",
      "41/41 [==============================] - 6s 155ms/step - loss: -39904.5312 - accuracy: 0.3338 - val_loss: 15604.7598 - val_accuracy: 0.3343\n"
     ]
    },
    {
     "data": {
      "text/plain": [
       "<tensorflow.python.keras.callbacks.History at 0x7f475526ee10>"
      ]
     },
     "execution_count": 200,
     "metadata": {},
     "output_type": "execute_result"
    }
   ],
   "source": [
    "cnn.fit(X_train, y_train, epochs=10, batch_size=32, validation_split=0.2)"
   ]
  },
  {
   "cell_type": "code",
   "execution_count": null,
   "metadata": {},
   "outputs": [],
   "source": []
  }
 ],
 "metadata": {
  "kernelspec": {
   "display_name": "Python 3",
   "language": "python",
   "name": "python3"
  },
  "language_info": {
   "codemirror_mode": {
    "name": "ipython",
    "version": 3
   },
   "file_extension": ".py",
   "mimetype": "text/x-python",
   "name": "python",
   "nbconvert_exporter": "python",
   "pygments_lexer": "ipython3",
   "version": "3.7.6"
  }
 },
 "nbformat": 4,
 "nbformat_minor": 4
}
