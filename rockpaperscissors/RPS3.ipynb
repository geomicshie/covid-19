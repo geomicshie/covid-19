{
 "cells": [
  {
   "cell_type": "code",
   "execution_count": 13,
   "metadata": {},
   "outputs": [],
   "source": [
    "import numpy as np\n",
    "import pandas as pd\n",
    "import matplotlib.pyplot as plt\n",
    "import seaborn as sns\n",
    "# cv2 computer vision library for loading images\n",
    "import cv2\n",
    "# tensorflow for Convolutional Neural Network (CNN)\n",
    "import tensorflow as tf\n",
    "from tensorflow.keras.models import Sequential\n",
    "from tensorflow.keras.layers import Dense, Flatten, Dropout, Activation, Conv2D, MaxPooling2D"
   ]
  },
  {
   "cell_type": "code",
   "execution_count": 5,
   "metadata": {},
   "outputs": [],
   "source": [
    "import os"
   ]
  },
  {
   "cell_type": "code",
   "execution_count": 6,
   "metadata": {},
   "outputs": [
    {
     "name": "stdout",
     "output_type": "stream",
     "text": [
      "['paper', 'RPS1.ipynb', 'RPS3.ipynb', 'rps-cv-images', 'Import Images and Transform.ipynb', '.ipynb_checkpoints', 'scissors', 'test', 'rock', 'README_rpc-cv-images.txt', 'RPS2.ipynb']\n"
     ]
    }
   ],
   "source": [
    "# files imported from Kaggle dataset: Rock, Paper, Scissors\n",
    "# https://www.kaggle.com/drgfreeman/rockpaperscissors/data\n",
    "print(os.listdir(\"./\"))"
   ]
  },
  {
   "cell_type": "code",
   "execution_count": 7,
   "metadata": {},
   "outputs": [],
   "source": [
    "rock_dir = \"./rock\"\n",
    "paper_dir = \"./paper\"\n",
    "scissors_dir =\"./scissors\""
   ]
  },
  {
   "cell_type": "code",
   "execution_count": 8,
   "metadata": {},
   "outputs": [],
   "source": [
    "rock_cat = 0\n",
    "paper_cat = 1\n",
    "scissors_cat = 2"
   ]
  },
  {
   "cell_type": "code",
   "execution_count": 19,
   "metadata": {},
   "outputs": [],
   "source": [
    "def create_bw_img_array(filename):\n",
    "    img_array = cv2.imread(filename,cv2.IMREAD_GRAYSCALE)\n",
    "    new_img_array = cv2.resize(img_array, dsize=(100, 100))\n",
    "    return new_img_array"
   ]
  },
  {
   "cell_type": "code",
   "execution_count": 30,
   "metadata": {},
   "outputs": [],
   "source": [
    "def create_col_img_array(filename):\n",
    "    img_array = cv2.imread(filename,cv2.IMREAD_COLOR)\n",
    "    new_img_array = cv2.resize(img_array, dsize=(100, 100))\n",
    "    return new_img_array"
   ]
  },
  {
   "cell_type": "code",
   "execution_count": 39,
   "metadata": {},
   "outputs": [
    {
     "data": {
      "text/plain": [
       "array([[65, 66, 70, ..., 53, 50, 49],\n",
       "       [66, 69, 71, ..., 50, 48, 47],\n",
       "       [69, 70, 73, ..., 49, 48, 47],\n",
       "       ...,\n",
       "       [80, 80, 81, ..., 63, 64, 62],\n",
       "       [80, 79, 79, ..., 62, 63, 60],\n",
       "       [79, 78, 79, ..., 62, 62, 59]], dtype=uint8)"
      ]
     },
     "execution_count": 39,
     "metadata": {},
     "output_type": "execute_result"
    }
   ],
   "source": [
    "f = './rock/eJ5fbY23rZWUULxO.png'\n",
    "bw_image = create_bw_img_array(f)\n",
    "bw_image"
   ]
  },
  {
   "cell_type": "code",
   "execution_count": 70,
   "metadata": {},
   "outputs": [
    {
     "name": "stdout",
     "output_type": "stream",
     "text": [
      "103\n",
      "104\n",
      "104\n",
      "105\n",
      "106\n",
      "106\n",
      "106\n",
      "106\n",
      "107\n",
      "107\n",
      "108\n",
      "108\n",
      "108\n",
      "108\n",
      "109\n",
      "110\n",
      "108\n",
      "109\n",
      "109\n",
      "109\n",
      "109\n",
      "109\n",
      "109\n",
      "111\n",
      "110\n",
      "110\n",
      "111\n",
      "112\n",
      "112\n",
      "112\n",
      "111\n",
      "109\n",
      "109\n",
      "108\n",
      "106\n",
      "104\n",
      "103\n",
      "144\n",
      "175\n",
      "186\n",
      "191\n",
      "201\n",
      "203\n",
      "201\n",
      "203\n",
      "195\n",
      "186\n",
      "179\n",
      "172\n",
      "175\n",
      "187\n",
      "209\n",
      "220\n",
      "224\n",
      "233\n",
      "235\n",
      "228\n",
      "213\n",
      "199\n",
      "198\n",
      "196\n",
      "190\n",
      "186\n",
      "183\n",
      "185\n",
      "185\n",
      "186\n",
      "188\n",
      "189\n",
      "190\n",
      "184\n",
      "180\n",
      "181\n",
      "176\n",
      "171\n",
      "173\n",
      "170\n",
      "169\n",
      "172\n",
      "175\n",
      "178\n",
      "174\n",
      "176\n",
      "181\n",
      "180\n",
      "183\n",
      "183\n",
      "181\n",
      "180\n",
      "182\n",
      "180\n",
      "178\n",
      "176\n",
      "175\n",
      "175\n",
      "176\n",
      "176\n",
      "174\n",
      "174\n",
      "175\n"
     ]
    }
   ],
   "source": [
    "for x in range(100):\n",
    "    print(np.max(bw_image[:,x]))"
   ]
  },
  {
   "cell_type": "code",
   "execution_count": 43,
   "metadata": {},
   "outputs": [
    {
     "data": {
      "text/plain": [
       "array([ 66,  69,  70,  71,  72,  73,  75,  76,  77,  78,  79,  79,  81,\n",
       "        82,  83,  85,  86,  87,  87,  88,  88,  90,  90,  92,  93,  93,\n",
       "        93,  94,  95,  95,  97,  98,  97,  98,  98,  99, 102, 104, 103,\n",
       "       104, 103, 103, 103, 103, 103, 104, 102, 103, 103, 103, 102, 102,\n",
       "       103, 101, 101, 102, 101, 101, 102, 102, 102, 101, 100,  99,  98,\n",
       "        97,  96,  97,  98,  98,  97,  97,  96,  96,  96,  95,  94,  93,\n",
       "        92,  92,  92,  91,  89,  89,  89,  88,  87,  86,  86,  86,  86,\n",
       "        85,  84,  82,  83,  82,  81,  80,  79,  78], dtype=uint8)"
      ]
     },
     "execution_count": 43,
     "metadata": {},
     "output_type": "execute_result"
    }
   ],
   "source": [
    "bw_image[:,1]"
   ]
  },
  {
   "cell_type": "code",
   "execution_count": 40,
   "metadata": {},
   "outputs": [
    {
     "data": {
      "text/plain": [
       "array([[[ 21, 100,  15],\n",
       "        [ 22, 102,  15],\n",
       "        [ 26, 106,  18],\n",
       "        ...,\n",
       "        [  1,  84,  12],\n",
       "        [  0,  82,   9],\n",
       "        [  0,  80,   9]],\n",
       "\n",
       "       [[ 22, 101,  16],\n",
       "        [ 24, 105,  18],\n",
       "        [ 25, 107,  19],\n",
       "        ...,\n",
       "        [  0,  81,  11],\n",
       "        [  0,  78,   8],\n",
       "        [  0,  76,   8]],\n",
       "\n",
       "       [[ 23, 104,  18],\n",
       "        [ 24, 106,  18],\n",
       "        [ 27, 109,  21],\n",
       "        ...,\n",
       "        [  0,  80,  10],\n",
       "        [  0,  78,   8],\n",
       "        [  0,  77,   9]],\n",
       "\n",
       "       ...,\n",
       "\n",
       "       [[ 30, 119,  24],\n",
       "        [ 29, 119,  24],\n",
       "        [ 29, 121,  24],\n",
       "        ...,\n",
       "        [ 19,  97,  15],\n",
       "        [ 20,  98,  17],\n",
       "        [ 17,  95,  14]],\n",
       "\n",
       "       [[ 30, 118,  25],\n",
       "        [ 28, 118,  22],\n",
       "        [ 27, 119,  22],\n",
       "        ...,\n",
       "        [ 18,  96,  15],\n",
       "        [ 19,  96,  16],\n",
       "        [ 16,  93,  13]],\n",
       "\n",
       "       [[ 29, 117,  23],\n",
       "        [ 27, 118,  21],\n",
       "        [ 28, 119,  22],\n",
       "        ...,\n",
       "        [ 18,  95,  15],\n",
       "        [ 18,  95,  14],\n",
       "        [ 15,  92,  12]]], dtype=uint8)"
      ]
     },
     "execution_count": 40,
     "metadata": {},
     "output_type": "execute_result"
    }
   ],
   "source": [
    "f = './rock/eJ5fbY23rZWUULxO.png'\n",
    "col_image = create_col_img_array(f)\n",
    "col_image"
   ]
  },
  {
   "cell_type": "code",
   "execution_count": 66,
   "metadata": {},
   "outputs": [
    {
     "data": {
      "text/plain": [
       "(100, 100, 3)"
      ]
     },
     "execution_count": 66,
     "metadata": {},
     "output_type": "execute_result"
    }
   ],
   "source": [
    "col_image.shape"
   ]
  },
  {
   "cell_type": "code",
   "execution_count": 38,
   "metadata": {},
   "outputs": [
    {
     "data": {
      "text/plain": [
       "(100, 100)"
      ]
     },
     "execution_count": 38,
     "metadata": {},
     "output_type": "execute_result"
    }
   ],
   "source": [
    "dims = bw_image.shape\n",
    "dims"
   ]
  },
  {
   "cell_type": "code",
   "execution_count": 61,
   "metadata": {},
   "outputs": [
    {
     "data": {
      "text/plain": [
       "8267"
      ]
     },
     "execution_count": 61,
     "metadata": {},
     "output_type": "execute_result"
    }
   ],
   "source": [
    "bw_image[5].sum()"
   ]
  },
  {
   "cell_type": "code",
   "execution_count": 60,
   "metadata": {},
   "outputs": [
    {
     "data": {
      "text/plain": [
       "82.67"
      ]
     },
     "execution_count": 60,
     "metadata": {},
     "output_type": "execute_result"
    }
   ],
   "source": [
    "np.average(bw_image[5])"
   ]
  },
  {
   "cell_type": "code",
   "execution_count": 71,
   "metadata": {},
   "outputs": [],
   "source": [
    "def image_row(arr, r, loop = dims[1]):\n",
    "    for c in range(loop):\n",
    "        print(arr[r,c])"
   ]
  },
  {
   "cell_type": "code",
   "execution_count": 72,
   "metadata": {},
   "outputs": [],
   "source": [
    "def image_column(arr, c, loop = dims[0]):\n",
    "    for r in range(loop):\n",
    "        print(arr[r,c])"
   ]
  },
  {
   "cell_type": "code",
   "execution_count": 73,
   "metadata": {},
   "outputs": [
    {
     "name": "stdout",
     "output_type": "stream",
     "text": [
      "90.43\n"
     ]
    }
   ],
   "source": [
    "print(np.average(bw_image[:,0]))"
   ]
  },
  {
   "cell_type": "code",
   "execution_count": 74,
   "metadata": {},
   "outputs": [
    {
     "name": "stdout",
     "output_type": "stream",
     "text": [
      "80.61\n"
     ]
    }
   ],
   "source": [
    "print(np.average(bw_image[0,:]))"
   ]
  },
  {
   "cell_type": "code",
   "execution_count": 82,
   "metadata": {},
   "outputs": [
    {
     "name": "stdout",
     "output_type": "stream",
     "text": [
      "106.89049999999997\n",
      "142.77\n"
     ]
    }
   ],
   "source": [
    "# print average for each row\n",
    "bw_row_avgs = []\n",
    "for i in range(dims[0]):\n",
    "    bw_row_avgs.append(np.average(bw_image[i,:]))\n",
    "print(np.average(bw_row_avgs))\n",
    "print(np.max(bw_row_avgs))"
   ]
  },
  {
   "cell_type": "code",
   "execution_count": 84,
   "metadata": {},
   "outputs": [
    {
     "name": "stdout",
     "output_type": "stream",
     "text": [
      "106.89050000000002\n",
      "141.06\n"
     ]
    }
   ],
   "source": [
    "bw_col_avgs = []\n",
    "for i in range(dims[1]):\n",
    "    bw_col_avgs.append(np.average(bw_image[:,i]))\n",
    "print(np.average(bw_col_avgs))\n",
    "print(np.max(bw_col_avgs))"
   ]
  },
  {
   "cell_type": "code",
   "execution_count": null,
   "metadata": {},
   "outputs": [],
   "source": []
  }
 ],
 "metadata": {
  "kernelspec": {
   "display_name": "Python 3",
   "language": "python",
   "name": "python3"
  },
  "language_info": {
   "codemirror_mode": {
    "name": "ipython",
    "version": 3
   },
   "file_extension": ".py",
   "mimetype": "text/x-python",
   "name": "python",
   "nbconvert_exporter": "python",
   "pygments_lexer": "ipython3",
   "version": "3.7.6"
  }
 },
 "nbformat": 4,
 "nbformat_minor": 4
}
