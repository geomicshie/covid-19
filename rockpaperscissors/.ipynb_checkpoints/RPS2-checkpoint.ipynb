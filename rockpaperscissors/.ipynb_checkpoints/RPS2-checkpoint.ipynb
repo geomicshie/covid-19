{
 "cells": [
  {
   "cell_type": "code",
   "execution_count": 39,
   "metadata": {},
   "outputs": [],
   "source": [
    "# core Data Science libraries\n",
    "import numpy as np\n",
    "import pandas as pd\n",
    "import matplotlib.pyplot as plt\n",
    "import seaborn as sns\n",
    "\n",
    "# cv2 computer vision library for loading images\n",
    "import cv2\n",
    "\n",
    "# tensorflow for Convolutional Neural Network (CNN) for final solution\n",
    "import tensorflow as tf\n",
    "from tensorflow.keras.models import Sequential\n",
    "from tensorflow.keras.layers import Dense, Flatten, Dropout, Activation, Conv2D, MaxPooling2D"
   ]
  },
  {
   "cell_type": "code",
   "execution_count": 40,
   "metadata": {},
   "outputs": [],
   "source": [
    "import os"
   ]
  },
  {
   "cell_type": "code",
   "execution_count": 41,
   "metadata": {},
   "outputs": [
    {
     "name": "stdout",
     "output_type": "stream",
     "text": [
      "['paper', 'RPS1.ipynb', 'rps-cv-images', '.ipynb_checkpoints', 'scissors', 'rock', 'README_rpc-cv-images.txt', 'RPS2.ipynb']\n"
     ]
    }
   ],
   "source": [
    "# files imported from Kaggle dataset: Rock, Paper, Scissors\n",
    "# https://www.kaggle.com/drgfreeman/rockpaperscissors/data\n",
    "print(os.listdir(\"./\"))"
   ]
  },
  {
   "cell_type": "code",
   "execution_count": 42,
   "metadata": {},
   "outputs": [],
   "source": [
    "rock_dir = \"./rock\"\n",
    "paper_dir = \"./paper\"\n",
    "scissors_dir =\"./scissors\""
   ]
  },
  {
   "cell_type": "code",
   "execution_count": 43,
   "metadata": {},
   "outputs": [],
   "source": [
    "rock_cat = 0\n",
    "paper_cat = 1\n",
    "scissors_cat = 2"
   ]
  },
  {
   "cell_type": "code",
   "execution_count": 108,
   "metadata": {},
   "outputs": [],
   "source": [
    "# initiate\n",
    "X = [] # will be an array of pixel values\n",
    "y = [] # will be a list of the class values, 0, 1, 2\n",
    "names = [] # will parse filename to create an index \n",
    "means = [] # average color of all the pixels in a given image"
   ]
  },
  {
   "cell_type": "code",
   "execution_count": 109,
   "metadata": {},
   "outputs": [],
   "source": [
    "def merge_classes_of_data(path, cat):\n",
    "    category = cat\n",
    "    for p in os.listdir(path):\n",
    "        file_name = p.split('.')[0]\n",
    "        img_array = cv2.imread(os.path.join(path, p),cv2.IMREAD_GRAYSCALE)\n",
    "        new_img_array = cv2.resize(img_array, dsize=(100, 100))\n",
    "        names.append(file_name)\n",
    "        means.append(new_img_array.mean())\n",
    "        X.append(new_img_array)\n",
    "        y.append(category)"
   ]
  },
  {
   "cell_type": "code",
   "execution_count": 110,
   "metadata": {},
   "outputs": [],
   "source": [
    "merge_classes_of_data(rock_dir, rock_cat)"
   ]
  },
  {
   "cell_type": "code",
   "execution_count": 111,
   "metadata": {},
   "outputs": [],
   "source": [
    "merge_classes_of_data(paper_dir, paper_cat)"
   ]
  },
  {
   "cell_type": "code",
   "execution_count": 112,
   "metadata": {},
   "outputs": [],
   "source": [
    "merge_classes_of_data(scissors_dir, scissors_cat)"
   ]
  },
  {
   "cell_type": "code",
   "execution_count": 113,
   "metadata": {
    "scrolled": true
   },
   "outputs": [
    {
     "data": {
      "text/plain": [
       "<matplotlib.image.AxesImage at 0x7fa3a4d9d210>"
      ]
     },
     "execution_count": 113,
     "metadata": {},
     "output_type": "execute_result"
    },
    {
     "data": {
      "image/png": "[encoded data removed]",
      "text/plain": [
       "<Figure size 432x288 with 1 Axes>"
      ]
     },
     "metadata": {
      "needs_background": "light"
     },
     "output_type": "display_data"
    }
   ],
   "source": [
    "# Plot individual arrays of pixel colors\n",
    "plt.imshow(X[73], cmap='gray')"
   ]
  },
  {
   "cell_type": "code",
   "execution_count": 121,
   "metadata": {},
   "outputs": [],
   "source": [
    "means = [int(i) for i in means]"
   ]
  },
  {
   "cell_type": "code",
   "execution_count": 123,
   "metadata": {},
   "outputs": [],
   "source": [
    "data = {'Names':names, 'Avg Color':means, 'Category':y}"
   ]
  },
  {
   "cell_type": "code",
   "execution_count": 124,
   "metadata": {},
   "outputs": [],
   "source": [
    "df = pd.DataFrame(data)"
   ]
  },
  {
   "cell_type": "code",
   "execution_count": 127,
   "metadata": {
    "scrolled": true
   },
   "outputs": [
    {
     "data": {
      "text/html": [
       "<div>\n",
       "<style scoped>\n",
       "    .dataframe tbody tr th:only-of-type {\n",
       "        vertical-align: middle;\n",
       "    }\n",
       "\n",
       "    .dataframe tbody tr th {\n",
       "        vertical-align: top;\n",
       "    }\n",
       "\n",
       "    .dataframe thead th {\n",
       "        text-align: right;\n",
       "    }\n",
       "</style>\n",
       "<table border=\"1\" class=\"dataframe\">\n",
       "  <thead>\n",
       "    <tr style=\"text-align: right;\">\n",
       "      <th></th>\n",
       "      <th>Names</th>\n",
       "      <th>Avg Color</th>\n",
       "      <th>Category</th>\n",
       "    </tr>\n",
       "  </thead>\n",
       "  <tbody>\n",
       "    <tr>\n",
       "      <th>0</th>\n",
       "      <td>eJ5fbY23rZWUULxO</td>\n",
       "      <td>106</td>\n",
       "      <td>0</td>\n",
       "    </tr>\n",
       "    <tr>\n",
       "      <th>1</th>\n",
       "      <td>TLbqMqwDrww8CS0p</td>\n",
       "      <td>136</td>\n",
       "      <td>0</td>\n",
       "    </tr>\n",
       "    <tr>\n",
       "      <th>2</th>\n",
       "      <td>9kYPKMVtd4nOvSK4</td>\n",
       "      <td>107</td>\n",
       "      <td>0</td>\n",
       "    </tr>\n",
       "    <tr>\n",
       "      <th>3</th>\n",
       "      <td>N3pHY9fO1y0jdeVu</td>\n",
       "      <td>107</td>\n",
       "      <td>0</td>\n",
       "    </tr>\n",
       "    <tr>\n",
       "      <th>4</th>\n",
       "      <td>JXD8WyY4cQoEyvtU</td>\n",
       "      <td>123</td>\n",
       "      <td>0</td>\n",
       "    </tr>\n",
       "  </tbody>\n",
       "</table>\n",
       "</div>"
      ],
      "text/plain": [
       "              Names  Avg Color  Category\n",
       "0  eJ5fbY23rZWUULxO        106         0\n",
       "1  TLbqMqwDrww8CS0p        136         0\n",
       "2  9kYPKMVtd4nOvSK4        107         0\n",
       "3  N3pHY9fO1y0jdeVu        107         0\n",
       "4  JXD8WyY4cQoEyvtU        123         0"
      ]
     },
     "execution_count": 127,
     "metadata": {},
     "output_type": "execute_result"
    }
   ],
   "source": [
    "df.head()"
   ]
  },
  {
   "cell_type": "code",
   "execution_count": 139,
   "metadata": {},
   "outputs": [
    {
     "data": {
      "text/plain": [
       "Category\n",
       "0    AxesSubplot(0.125,0.125;0.775x0.755)\n",
       "1    AxesSubplot(0.125,0.125;0.775x0.755)\n",
       "2    AxesSubplot(0.125,0.125;0.775x0.755)\n",
       "Name: Avg Color, dtype: object"
      ]
     },
     "execution_count": 139,
     "metadata": {},
     "output_type": "execute_result"
    },
    {
     "data": {
      "image/png": "[encoded data removed]",
      "text/plain": [
       "<Figure size 432x288 with 1 Axes>"
      ]
     },
     "metadata": {
      "needs_background": "light"
     },
     "output_type": "display_data"
    }
   ],
   "source": [
    "df.groupby(['Category'])['Avg Color'].plot(kind='hist', bins=50)"
   ]
  },
  {
   "cell_type": "code",
   "execution_count": 126,
   "metadata": {
    "scrolled": true
   },
   "outputs": [
    {
     "data": {
      "text/plain": [
       "2    750\n",
       "0    726\n",
       "1    712\n",
       "Name: Category, dtype: int64"
      ]
     },
     "execution_count": 126,
     "metadata": {},
     "output_type": "execute_result"
    }
   ],
   "source": [
    "df['Category'].value_counts()"
   ]
  },
  {
   "cell_type": "code",
   "execution_count": 134,
   "metadata": {},
   "outputs": [
    {
     "name": "stdout",
     "output_type": "stream",
     "text": [
      "Category\n",
      "0    113.134986\n",
      "1    115.393258\n",
      "2    112.470667\n",
      "Name: Avg Color, dtype: float64\n",
      "Category\n",
      "0    155\n",
      "1    160\n",
      "2    158\n",
      "Name: Avg Color, dtype: int64\n",
      "Category\n",
      "0    69\n",
      "1    80\n",
      "2    81\n",
      "Name: Avg Color, dtype: int64\n"
     ]
    }
   ],
   "source": [
    "print(df.groupby(['Category'])['Avg Color'].mean())\n",
    "print(df.groupby(['Category'])['Avg Color'].max())\n",
    "print(df.groupby(['Category'])['Avg Color'].min())"
   ]
  },
  {
   "cell_type": "code",
   "execution_count": null,
   "metadata": {},
   "outputs": [],
   "source": [
    "# Histogram output, min, max and mean all suggest there is not a tremendous amount\n",
    "# of predictive value associated with the newly created 'Avg Color' feature"
   ]
  },
  {
   "cell_type": "code",
   "execution_count": 158,
   "metadata": {},
   "outputs": [
    {
     "name": "stdout",
     "output_type": "stream",
     "text": [
      "(200, 300, 3)\n",
      "0.0 1.0\n",
      "(60000, 3)\n"
     ]
    },
    {
     "data": {
      "image/png": "[encoded data removed]",
      "text/plain": [
       "<Figure size 432x288 with 1 Axes>"
      ]
     },
     "metadata": {
      "needs_background": "light"
     },
     "output_type": "display_data"
    }
   ],
   "source": [
    "# Reading in data differently to examine scatter or clusters\n",
    "# (disclaimer: Technique found on Kaggle for doing EDA for image sets)\n",
    "\n",
    "for p in os.listdir(rock_dir):\n",
    "    # category = 0 -- will set a separate classifier for each of rock (0), paper (1), scissors (2)\n",
    "    img_array = plt.imread(os.path.join(rock_dir,p))\n",
    "    dims = np.shape(img_array)\n",
    "    print(dims)\n",
    "    print(np.min(img_array), np.max(img_array))\n",
    "    pixel_matrix = np.reshape(img_array, (dims[0] * dims[1], dims[2]))\n",
    "    print(np.shape(pixel_matrix))\n",
    "    plt.scatter(new_img_array[:,0], new_img_array[:,1], new_img_array[:,2])\n",
    "\n",
    "    break"
   ]
  },
  {
   "cell_type": "code",
   "execution_count": 159,
   "metadata": {},
   "outputs": [],
   "source": [
    "# I would guess the above separation results from the array values where hands are\n",
    "# vs. the green screen, so not super helpful"
   ]
  },
  {
   "cell_type": "code",
   "execution_count": null,
   "metadata": {},
   "outputs": [],
   "source": []
  }
 ],
 "metadata": {
  "kernelspec": {
   "display_name": "Python 3",
   "language": "python",
   "name": "python3"
  },
  "language_info": {
   "codemirror_mode": {
    "name": "ipython",
    "version": 3
   },
   "file_extension": ".py",
   "mimetype": "text/x-python",
   "name": "python",
   "nbconvert_exporter": "python",
   "pygments_lexer": "ipython3",
   "version": "3.7.6"
  }
 },
 "nbformat": 4,
 "nbformat_minor": 4
}
