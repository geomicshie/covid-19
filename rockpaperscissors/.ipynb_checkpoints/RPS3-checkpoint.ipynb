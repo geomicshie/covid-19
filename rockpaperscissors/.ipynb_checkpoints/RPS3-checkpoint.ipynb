{
 "cells": [
  {
   "cell_type": "code",
   "execution_count": 1,
   "metadata": {},
   "outputs": [],
   "source": [
    "import numpy as np\n",
    "import pandas as pd\n",
    "import matplotlib.pyplot as plt\n",
    "import seaborn as sns\n",
    "# cv2 computer vision library for loading images\n",
    "import cv2\n",
    "# tensorflow for Convolutional Neural Network (CNN)\n",
    "import tensorflow as tf\n",
    "from tensorflow.keras.models import Sequential\n",
    "from tensorflow.keras.layers import Dense, Flatten, Dropout, Activation, Conv2D, MaxPooling2D"
   ]
  },
  {
   "cell_type": "code",
   "execution_count": 2,
   "metadata": {},
   "outputs": [],
   "source": [
    "import os"
   ]
  },
  {
   "cell_type": "code",
   "execution_count": 3,
   "metadata": {},
   "outputs": [
    {
     "name": "stdout",
     "output_type": "stream",
     "text": [
      "['paper', 'RPS1.ipynb', 'rps-cv-images', '.ipynb_checkpoints', 'scissors', 'test', 'rock', 'README_rpc-cv-images.txt', 'RPS2.ipynb']\n"
     ]
    }
   ],
   "source": [
    "# files imported from Kaggle dataset: Rock, Paper, Scissors\n",
    "# https://www.kaggle.com/drgfreeman/rockpaperscissors/data\n",
    "print(os.listdir(\"./\"))"
   ]
  },
  {
   "cell_type": "code",
   "execution_count": 4,
   "metadata": {},
   "outputs": [],
   "source": [
    "rock_dir = \"./rock\"\n",
    "paper_dir = \"./paper\"\n",
    "scissors_dir =\"./scissors\""
   ]
  },
  {
   "cell_type": "code",
   "execution_count": 5,
   "metadata": {},
   "outputs": [],
   "source": [
    "rock_cat = 0\n",
    "paper_cat = 1\n",
    "scissors_cat = 2"
   ]
  },
  {
   "cell_type": "code",
   "execution_count": 6,
   "metadata": {},
   "outputs": [
    {
     "name": "stdout",
     "output_type": "stream",
     "text": [
      "./rock/eJ5fbY23rZWUULxO.png\n"
     ]
    },
    {
     "data": {
      "image/png": "[encoded data removed]",
      "text/plain": [
       "<Figure size 432x288 with 1 Axes>"
      ]
     },
     "metadata": {
      "needs_background": "light"
     },
     "output_type": "display_data"
    }
   ],
   "source": [
    "# test out accessing, converting and processing images\n",
    "# use rock directory first\n",
    "for p in os.listdir(rock_dir):\n",
    "    # category = 0 -- will set a separate classifier for each of rock (0), paper (1), scissors (2)\n",
    "    img_array = cv2.imread(os.path.join(rock_dir,p),cv2.IMREAD_GRAYSCALE)\n",
    "    new_img_array = cv2.resize(img_array, dsize=(100, 100)) # make pictures and picture arrays uniform size\n",
    "    print(os.path.join(rock_dir,p)) # label\n",
    "    plt.imshow(new_img_array,cmap=\"gray\")\n",
    "    break"
   ]
  },
  {
   "cell_type": "code",
   "execution_count": 7,
   "metadata": {},
   "outputs": [],
   "source": [
    "# initiate\n",
    "X = []\n",
    "y = []"
   ]
  },
  {
   "cell_type": "code",
   "execution_count": 8,
   "metadata": {},
   "outputs": [],
   "source": [
    "def merge_classes_of_data(path, cat):\n",
    "    category = cat\n",
    "    for p in os.listdir(path):\n",
    "        img_array = cv2.imread(os.path.join(path, p),cv2.IMREAD_GRAYSCALE)\n",
    "        new_img_array = cv2.resize(img_array, dsize=(100, 100))\n",
    "        X.append(new_img_array)\n",
    "        y.append(category)"
   ]
  },
  {
   "cell_type": "code",
   "execution_count": 9,
   "metadata": {},
   "outputs": [],
   "source": [
    "merge_classes_of_data(rock_dir, rock_cat)"
   ]
  },
  {
   "cell_type": "code",
   "execution_count": 10,
   "metadata": {},
   "outputs": [],
   "source": [
    "merge_classes_of_data(paper_dir, paper_cat)"
   ]
  },
  {
   "cell_type": "code",
   "execution_count": 11,
   "metadata": {},
   "outputs": [],
   "source": [
    "merge_classes_of_data(scissors_dir, scissors_cat)"
   ]
  },
  {
   "cell_type": "code",
   "execution_count": 12,
   "metadata": {},
   "outputs": [],
   "source": [
    "# get type error if not used -- DON'T KNOW WHY\n",
    "X = np.array(X).reshape(-1,100,100,1)\n",
    "y = np.array(y)"
   ]
  },
  {
   "cell_type": "code",
   "execution_count": 13,
   "metadata": {},
   "outputs": [],
   "source": [
    "X = X/255.0 # each grayscale pixel has color from pure black to pure white from 0 to 255"
   ]
  },
  {
   "cell_type": "code",
   "execution_count": 14,
   "metadata": {},
   "outputs": [
    {
     "data": {
      "text/plain": [
       "array([[[[0.25490196],\n",
       "         [0.25882353],\n",
       "         [0.2745098 ],\n",
       "         ...,\n",
       "         [0.20784314],\n",
       "         [0.19607843],\n",
       "         [0.19215686]],\n",
       "\n",
       "        [[0.25882353],\n",
       "         [0.27058824],\n",
       "         [0.27843137],\n",
       "         ...,\n",
       "         [0.19607843],\n",
       "         [0.18823529],\n",
       "         [0.18431373]],\n",
       "\n",
       "        [[0.27058824],\n",
       "         [0.2745098 ],\n",
       "         [0.28627451],\n",
       "         ...,\n",
       "         [0.19215686],\n",
       "         [0.18823529],\n",
       "         [0.18431373]],\n",
       "\n",
       "        ...,\n",
       "\n",
       "        [[0.31372549],\n",
       "         [0.31372549],\n",
       "         [0.31764706],\n",
       "         ...,\n",
       "         [0.24705882],\n",
       "         [0.25098039],\n",
       "         [0.24313725]],\n",
       "\n",
       "        [[0.31372549],\n",
       "         [0.30980392],\n",
       "         [0.30980392],\n",
       "         ...,\n",
       "         [0.24313725],\n",
       "         [0.24705882],\n",
       "         [0.23529412]],\n",
       "\n",
       "        [[0.30980392],\n",
       "         [0.30588235],\n",
       "         [0.30980392],\n",
       "         ...,\n",
       "         [0.24313725],\n",
       "         [0.24313725],\n",
       "         [0.23137255]]],\n",
       "\n",
       "\n",
       "       [[[0.44313725],\n",
       "         [0.43529412],\n",
       "         [0.43529412],\n",
       "         ...,\n",
       "         [0.45490196],\n",
       "         [0.45098039],\n",
       "         [0.44705882]],\n",
       "\n",
       "        [[0.44313725],\n",
       "         [0.44705882],\n",
       "         [0.44313725],\n",
       "         ...,\n",
       "         [0.45490196],\n",
       "         [0.44705882],\n",
       "         [0.44705882]],\n",
       "\n",
       "        [[0.44313725],\n",
       "         [0.45490196],\n",
       "         [0.45490196],\n",
       "         ...,\n",
       "         [0.43921569],\n",
       "         [0.43529412],\n",
       "         [0.42352941]],\n",
       "\n",
       "        ...,\n",
       "\n",
       "        [[0.42352941],\n",
       "         [0.43529412],\n",
       "         [0.43529412],\n",
       "         ...,\n",
       "         [0.52156863],\n",
       "         [0.52941176],\n",
       "         [0.52156863]],\n",
       "\n",
       "        [[0.42745098],\n",
       "         [0.43921569],\n",
       "         [0.44313725],\n",
       "         ...,\n",
       "         [0.52156863],\n",
       "         [0.51764706],\n",
       "         [0.50980392]],\n",
       "\n",
       "        [[0.41960784],\n",
       "         [0.43529412],\n",
       "         [0.43529412],\n",
       "         ...,\n",
       "         [0.51764706],\n",
       "         [0.50588235],\n",
       "         [0.50980392]]],\n",
       "\n",
       "\n",
       "       [[[0.31372549],\n",
       "         [0.31764706],\n",
       "         [0.31764706],\n",
       "         ...,\n",
       "         [0.20784314],\n",
       "         [0.2       ],\n",
       "         [0.2       ]],\n",
       "\n",
       "        [[0.31372549],\n",
       "         [0.3254902 ],\n",
       "         [0.32156863],\n",
       "         ...,\n",
       "         [0.20784314],\n",
       "         [0.20392157],\n",
       "         [0.19215686]],\n",
       "\n",
       "        [[0.31372549],\n",
       "         [0.32156863],\n",
       "         [0.32941176],\n",
       "         ...,\n",
       "         [0.21176471],\n",
       "         [0.20784314],\n",
       "         [0.18823529]],\n",
       "\n",
       "        ...,\n",
       "\n",
       "        [[0.27843137],\n",
       "         [0.27843137],\n",
       "         [0.28627451],\n",
       "         ...,\n",
       "         [0.21960784],\n",
       "         [0.21176471],\n",
       "         [0.20392157]],\n",
       "\n",
       "        [[0.2745098 ],\n",
       "         [0.27843137],\n",
       "         [0.27843137],\n",
       "         ...,\n",
       "         [0.21568627],\n",
       "         [0.21176471],\n",
       "         [0.20392157]],\n",
       "\n",
       "        [[0.26666667],\n",
       "         [0.2745098 ],\n",
       "         [0.27843137],\n",
       "         ...,\n",
       "         [0.21568627],\n",
       "         [0.21568627],\n",
       "         [0.20392157]]],\n",
       "\n",
       "\n",
       "       ...,\n",
       "\n",
       "\n",
       "       [[[0.31372549],\n",
       "         [0.32156863],\n",
       "         [0.32156863],\n",
       "         ...,\n",
       "         [0.21176471],\n",
       "         [0.20392157],\n",
       "         [0.19607843]],\n",
       "\n",
       "        [[0.31372549],\n",
       "         [0.3254902 ],\n",
       "         [0.32156863],\n",
       "         ...,\n",
       "         [0.21176471],\n",
       "         [0.20784314],\n",
       "         [0.19607843]],\n",
       "\n",
       "        [[0.31764706],\n",
       "         [0.32941176],\n",
       "         [0.32941176],\n",
       "         ...,\n",
       "         [0.21176471],\n",
       "         [0.20784314],\n",
       "         [0.19215686]],\n",
       "\n",
       "        ...,\n",
       "\n",
       "        [[0.28235294],\n",
       "         [0.28235294],\n",
       "         [0.28235294],\n",
       "         ...,\n",
       "         [0.16862745],\n",
       "         [0.16862745],\n",
       "         [0.16470588]],\n",
       "\n",
       "        [[0.27843137],\n",
       "         [0.28235294],\n",
       "         [0.28235294],\n",
       "         ...,\n",
       "         [0.17254902],\n",
       "         [0.16862745],\n",
       "         [0.16862745]],\n",
       "\n",
       "        [[0.26666667],\n",
       "         [0.2745098 ],\n",
       "         [0.27843137],\n",
       "         ...,\n",
       "         [0.17647059],\n",
       "         [0.17254902],\n",
       "         [0.16470588]]],\n",
       "\n",
       "\n",
       "       [[[0.27058824],\n",
       "         [0.2745098 ],\n",
       "         [0.29019608],\n",
       "         ...,\n",
       "         [0.23529412],\n",
       "         [0.22745098],\n",
       "         [0.22745098]],\n",
       "\n",
       "        [[0.27843137],\n",
       "         [0.28235294],\n",
       "         [0.29411765],\n",
       "         ...,\n",
       "         [0.23921569],\n",
       "         [0.23529412],\n",
       "         [0.22745098]],\n",
       "\n",
       "        [[0.28235294],\n",
       "         [0.28627451],\n",
       "         [0.29803922],\n",
       "         ...,\n",
       "         [0.24705882],\n",
       "         [0.23921569],\n",
       "         [0.22745098]],\n",
       "\n",
       "        ...,\n",
       "\n",
       "        [[0.3254902 ],\n",
       "         [0.3254902 ],\n",
       "         [0.32941176],\n",
       "         ...,\n",
       "         [0.23921569],\n",
       "         [0.22745098],\n",
       "         [0.21960784]],\n",
       "\n",
       "        [[0.31764706],\n",
       "         [0.32156863],\n",
       "         [0.32156863],\n",
       "         ...,\n",
       "         [0.23921569],\n",
       "         [0.22745098],\n",
       "         [0.21960784]],\n",
       "\n",
       "        [[0.32156863],\n",
       "         [0.32156863],\n",
       "         [0.32156863],\n",
       "         ...,\n",
       "         [0.24313725],\n",
       "         [0.23137255],\n",
       "         [0.21960784]]],\n",
       "\n",
       "\n",
       "       [[[0.2745098 ],\n",
       "         [0.27843137],\n",
       "         [0.29411765],\n",
       "         ...,\n",
       "         [0.14509804],\n",
       "         [0.14117647],\n",
       "         [0.13333333]],\n",
       "\n",
       "        [[0.2745098 ],\n",
       "         [0.28235294],\n",
       "         [0.30196078],\n",
       "         ...,\n",
       "         [0.14117647],\n",
       "         [0.1372549 ],\n",
       "         [0.12941176]],\n",
       "\n",
       "        [[0.28627451],\n",
       "         [0.29019608],\n",
       "         [0.30196078],\n",
       "         ...,\n",
       "         [0.14117647],\n",
       "         [0.13333333],\n",
       "         [0.12156863]],\n",
       "\n",
       "        ...,\n",
       "\n",
       "        [[0.3254902 ],\n",
       "         [0.3254902 ],\n",
       "         [0.32156863],\n",
       "         ...,\n",
       "         [0.25098039],\n",
       "         [0.25098039],\n",
       "         [0.24313725]],\n",
       "\n",
       "        [[0.31372549],\n",
       "         [0.32156863],\n",
       "         [0.31764706],\n",
       "         ...,\n",
       "         [0.25098039],\n",
       "         [0.24705882],\n",
       "         [0.24313725]],\n",
       "\n",
       "        [[0.31372549],\n",
       "         [0.31372549],\n",
       "         [0.31764706],\n",
       "         ...,\n",
       "         [0.25098039],\n",
       "         [0.23921569],\n",
       "         [0.23921569]]]])"
      ]
     },
     "execution_count": 14,
     "metadata": {},
     "output_type": "execute_result"
    }
   ],
   "source": [
    "X"
   ]
  },
  {
   "cell_type": "code",
   "execution_count": 15,
   "metadata": {},
   "outputs": [
    {
     "data": {
      "text/plain": [
       "0.4476257828798797"
      ]
     },
     "execution_count": 15,
     "metadata": {},
     "output_type": "execute_result"
    }
   ],
   "source": [
    "X.mean()"
   ]
  },
  {
   "cell_type": "code",
   "execution_count": 16,
   "metadata": {},
   "outputs": [
    {
     "data": {
      "text/plain": [
       "(2188, 100, 100, 1)"
      ]
     },
     "execution_count": 16,
     "metadata": {},
     "output_type": "execute_result"
    }
   ],
   "source": [
    "X.shape"
   ]
  },
  {
   "cell_type": "code",
   "execution_count": 18,
   "metadata": {},
   "outputs": [
    {
     "data": {
      "text/plain": [
       "(2188,)"
      ]
     },
     "execution_count": 18,
     "metadata": {},
     "output_type": "execute_result"
    }
   ],
   "source": [
    "y.shape"
   ]
  },
  {
   "cell_type": "code",
   "execution_count": 19,
   "metadata": {},
   "outputs": [],
   "source": []
  },
  {
   "cell_type": "code",
   "execution_count": null,
   "metadata": {},
   "outputs": [],
   "source": []
  }
 ],
 "metadata": {
  "kernelspec": {
   "display_name": "Python 3",
   "language": "python",
   "name": "python3"
  },
  "language_info": {
   "codemirror_mode": {
    "name": "ipython",
    "version": 3
   },
   "file_extension": ".py",
   "mimetype": "text/x-python",
   "name": "python",
   "nbconvert_exporter": "python",
   "pygments_lexer": "ipython3",
   "version": "3.7.6"
  }
 },
 "nbformat": 4,
 "nbformat_minor": 4
}
