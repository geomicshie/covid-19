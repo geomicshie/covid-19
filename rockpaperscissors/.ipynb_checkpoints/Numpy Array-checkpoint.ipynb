{
 "cells": [
  {
   "cell_type": "code",
   "execution_count": 61,
   "metadata": {},
   "outputs": [],
   "source": [
    "import numpy as np\n",
    "from numpy import array\n",
    "import pandas as pd\n",
    "import matplotlib.pyplot as plt\n",
    "import seaborn as sns\n",
    "\n",
    "# cv2 computer vision library for loading images\n",
    "import cv2 "
   ]
  },
  {
   "cell_type": "code",
   "execution_count": 62,
   "metadata": {},
   "outputs": [],
   "source": [
    "import os\n",
    "\n",
    "# directories for data\n",
    "rock_dir = \"./rock\"\n",
    "paper_dir = \"./paper\"\n",
    "scissors_dir =\"./scissors\"\n",
    "\n",
    "# class values\n",
    "rock_cat = 0\n",
    "paper_cat = 1\n",
    "scissors_cat = 2"
   ]
  },
  {
   "cell_type": "code",
   "execution_count": 63,
   "metadata": {},
   "outputs": [],
   "source": [
    "def get_image_list(path):\n",
    "    image_list = []\n",
    "    for filename in os.listdir(path):\n",
    "        im=cv2.imread(os.path.join(path,filename),cv2.IMREAD_GRAYSCALE)\n",
    "        new_im = cv2.resize(im, dsize=(100, 100))\n",
    "        image_list.append(new_im)\n",
    "    return image_list"
   ]
  },
  {
   "cell_type": "code",
   "execution_count": 64,
   "metadata": {},
   "outputs": [],
   "source": [
    "rock_images = get_image_list(rock_dir)\n",
    "paper_images = get_image_list(paper_dir)\n",
    "scissors_images = get_image_list(scissors_dir)"
   ]
  },
  {
   "cell_type": "code",
   "execution_count": 77,
   "metadata": {},
   "outputs": [],
   "source": [
    "y_rock = [rock_cat for i in range(len(rock_images))]\n",
    "y_paper = [paper_cat for i in range(len(paper_images))]\n",
    "y_scissors = [scissors_cat for i in range(len(scissors_images))]"
   ]
  },
  {
   "cell_type": "code",
   "execution_count": 81,
   "metadata": {},
   "outputs": [],
   "source": [
    "y_list = y_rock + y_paper + y_scissors"
   ]
  },
  {
   "cell_type": "code",
   "execution_count": 82,
   "metadata": {},
   "outputs": [],
   "source": [
    "y = array(y_list)"
   ]
  },
  {
   "cell_type": "code",
   "execution_count": 84,
   "metadata": {},
   "outputs": [
    {
     "data": {
      "text/plain": [
       "(2188,)"
      ]
     },
     "execution_count": 84,
     "metadata": {},
     "output_type": "execute_result"
    }
   ],
   "source": [
    "y.shape"
   ]
  },
  {
   "cell_type": "code",
   "execution_count": 65,
   "metadata": {},
   "outputs": [],
   "source": [
    "images = rock_images + paper_images + scissors_images"
   ]
  },
  {
   "cell_type": "code",
   "execution_count": 66,
   "metadata": {},
   "outputs": [],
   "source": [
    "images_array = array(images)"
   ]
  },
  {
   "cell_type": "code",
   "execution_count": 68,
   "metadata": {},
   "outputs": [
    {
     "data": {
      "text/plain": [
       "(2188, 100, 100)"
      ]
     },
     "execution_count": 68,
     "metadata": {},
     "output_type": "execute_result"
    }
   ],
   "source": [
    "images_array.shape"
   ]
  },
  {
   "cell_type": "code",
   "execution_count": 74,
   "metadata": {},
   "outputs": [],
   "source": [
    "sdg_array = images_array.reshape(2188, 10000)"
   ]
  },
  {
   "cell_type": "code",
   "execution_count": 75,
   "metadata": {},
   "outputs": [
    {
     "data": {
      "text/plain": [
       "array([[ 65,  66,  70, ...,  62,  62,  59],\n",
       "       [113, 111, 111, ..., 132, 129, 130],\n",
       "       [ 80,  81,  81, ...,  55,  55,  52],\n",
       "       ...,\n",
       "       [ 80,  82,  82, ...,  45,  44,  42],\n",
       "       [ 69,  70,  74, ...,  62,  59,  56],\n",
       "       [ 70,  71,  75, ...,  64,  61,  61]], dtype=uint8)"
      ]
     },
     "execution_count": 75,
     "metadata": {},
     "output_type": "execute_result"
    }
   ],
   "source": [
    "sdg_array"
   ]
  },
  {
   "cell_type": "code",
   "execution_count": 85,
   "metadata": {},
   "outputs": [],
   "source": [
    "import pickle\n",
    "pickle.dump(y, open(\"y.array\", \"wb\"))\n",
    "pickle.dump(images_array, open(\"images.array\", \"wb\"))\n",
    "pickle.dump(sdg_array, open(\"sdg.array\", \"wb\"))"
   ]
  },
  {
   "cell_type": "code",
   "execution_count": null,
   "metadata": {},
   "outputs": [],
   "source": []
  }
 ],
 "metadata": {
  "kernelspec": {
   "display_name": "Python 3",
   "language": "python",
   "name": "python3"
  },
  "language_info": {
   "codemirror_mode": {
    "name": "ipython",
    "version": 3
   },
   "file_extension": ".py",
   "mimetype": "text/x-python",
   "name": "python",
   "nbconvert_exporter": "python",
   "pygments_lexer": "ipython3",
   "version": "3.7.6"
  }
 },
 "nbformat": 4,
 "nbformat_minor": 4
}
